{
 "cells": [
  {
   "cell_type": "markdown",
   "id": "f089f8a8",
   "metadata": {},
   "source": [
    "# Setup and Imports"
   ]
  },
  {
   "cell_type": "code",
   "execution_count": 10,
   "id": "c89cce35",
   "metadata": {},
   "outputs": [],
   "source": [
    "import prepare_MRI_images as pmi\n",
    "import os\n",
    "import numpy as np\n",
    "from sklearn.model_selection import train_test_split"
   ]
  },
  {
   "cell_type": "markdown",
   "id": "094c9778",
   "metadata": {},
   "source": [
    "# Get the Data"
   ]
  },
  {
   "cell_type": "code",
   "execution_count": 4,
   "id": "41162b60",
   "metadata": {},
   "outputs": [],
   "source": [
    "no_tumor_path = 'brain-mri-images-for-brain-tumor-detection/no'\n",
    "tumor_path = 'brain-mri-images-for-brain-tumor-detection/yes'\n",
    "width = 256\n",
    "height = 256\n",
    "color = 'L'\n",
    "num_no_tumors = len(os.listdir(no_tumor_path))\n",
    "num_tumors = len(os.listdir(tumor_path))\n",
    "\n",
    "X, y = pmi.clean_MRI_scans(no_tumor_path, tumor_path, width, height, color, num_no_tumors, num_tumors)"
   ]
  },
  {
   "cell_type": "code",
   "execution_count": 5,
   "id": "3e8f18e7",
   "metadata": {},
   "outputs": [
    {
     "name": "stdout",
     "output_type": "stream",
     "text": [
      "(253, 256, 256)\n",
      "(253,)\n"
     ]
    }
   ],
   "source": [
    "print(X.shape)\n",
    "print(y.shape)"
   ]
  },
  {
   "cell_type": "markdown",
   "id": "d80f1202",
   "metadata": {},
   "source": [
    "# Split the Data into Training and Test Sets"
   ]
  },
  {
   "cell_type": "code",
   "execution_count": 14,
   "id": "fc74b2fc",
   "metadata": {},
   "outputs": [],
   "source": [
    "X_train, X_test, y_train, y_test = train_test_split(X, y, test_size = .2, random_state=42, stratify=y) "
   ]
  },
  {
   "cell_type": "code",
   "execution_count": 15,
   "id": "8eb81f68",
   "metadata": {},
   "outputs": [
    {
     "name": "stdout",
     "output_type": "stream",
     "text": [
      "(202, 256, 256)\n",
      "(51, 256, 256)\n",
      "(202,)\n",
      "(51,)\n"
     ]
    }
   ],
   "source": [
    "print(X_train.shape)\n",
    "print(X_test.shape)\n",
    "print(y_train.shape)\n",
    "print(y_test.shape)"
   ]
  },
  {
   "cell_type": "code",
   "execution_count": null,
   "id": "85b76988",
   "metadata": {},
   "outputs": [],
   "source": []
  }
 ],
 "metadata": {
  "kernelspec": {
   "display_name": "Python 3",
   "language": "python",
   "name": "python3"
  },
  "language_info": {
   "codemirror_mode": {
    "name": "ipython",
    "version": 3
   },
   "file_extension": ".py",
   "mimetype": "text/x-python",
   "name": "python",
   "nbconvert_exporter": "python",
   "pygments_lexer": "ipython3",
   "version": "3.8.8"
  }
 },
 "nbformat": 4,
 "nbformat_minor": 5
}
