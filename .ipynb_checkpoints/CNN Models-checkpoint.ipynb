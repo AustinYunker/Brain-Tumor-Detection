{
 "cells": [
  {
   "cell_type": "markdown",
   "id": "1b08211e",
   "metadata": {},
   "source": [
    "# Setup and Imports"
   ]
  },
  {
   "cell_type": "code",
   "execution_count": 254,
   "id": "bf2a875c",
   "metadata": {},
   "outputs": [],
   "source": [
    "import prepare_MRI_images as pmi\n",
    "import os\n",
    "import numpy as np\n",
    "import pandas as pd\n",
    "import matplotlib.pyplot as plt\n",
    "%matplotlib inline\n",
    "from sklearn.model_selection import train_test_split\n",
    "from sklearn.metrics import accuracy_score, recall_score\n",
    "from keras.models import Model\n",
    "from keras.layers import Conv2D, MaxPooling2D, Flatten, Dense, Input, BatchNormalization, Dropout\n",
    "from keras.regularizers import l2\n",
    "from keras.callbacks import EarlyStopping, LearningRateScheduler, ReduceLROnPlateau\n",
    "from keras.optimizers import adam_v2, rmsprop_v2\n",
    "from keras.optimizers import gradient_descent_v2\n",
    "from keras import optimizers\n",
    "from keras.preprocessing.image import ImageDataGenerator\n",
    "from sklearn.model_selection import ParameterSampler\n",
    "from scipy.stats import reciprocal\n",
    "from sklearn.metrics import confusion_matrix"
   ]
  },
  {
   "cell_type": "markdown",
   "id": "f95e9f4e",
   "metadata": {},
   "source": [
    "# Get the Data"
   ]
  },
  {
   "cell_type": "code",
   "execution_count": 2,
   "id": "3fecb87d",
   "metadata": {},
   "outputs": [],
   "source": [
    "no_tumor_path = 'brain-mri-images-for-brain-tumor-detection/no'\n",
    "tumor_path = 'brain-mri-images-for-brain-tumor-detection/yes'\n",
    "width = 256\n",
    "height = 256\n",
    "color = 'L'\n",
    "num_no_tumors = len(os.listdir(no_tumor_path))\n",
    "num_tumors = len(os.listdir(tumor_path))\n",
    "\n",
    "X, y = pmi.clean_MRI_scans(no_tumor_path, tumor_path, width, height, color, num_no_tumors, num_tumors)"
   ]
  },
  {
   "cell_type": "code",
   "execution_count": 3,
   "id": "7fda53b0",
   "metadata": {},
   "outputs": [
    {
     "name": "stdout",
     "output_type": "stream",
     "text": [
      "(253, 256, 256)\n",
      "(253,)\n"
     ]
    }
   ],
   "source": [
    "print(X.shape)\n",
    "print(y.shape)"
   ]
  },
  {
   "cell_type": "markdown",
   "id": "986704ff",
   "metadata": {},
   "source": [
    "# Split the Data into Training and Test Sets"
   ]
  },
  {
   "cell_type": "code",
   "execution_count": 4,
   "id": "c2dc2b41",
   "metadata": {},
   "outputs": [],
   "source": [
    "X_train, X_test, y_train, y_test = train_test_split(X, y, test_size = .2, random_state=42, stratify=y) \n",
    "X_train, X_val, y_train, y_val = train_test_split(X_train, y_train, test_size = .25, random_state=42, stratify=y_train) \n"
   ]
  },
  {
   "cell_type": "code",
   "execution_count": 5,
   "id": "93916e75",
   "metadata": {},
   "outputs": [
    {
     "name": "stdout",
     "output_type": "stream",
     "text": [
      "(151, 256, 256)\n",
      "(51, 256, 256)\n",
      "(51, 256, 256)\n",
      "(151,)\n",
      "(51,)\n",
      "(51,)\n"
     ]
    }
   ],
   "source": [
    "print(X_train.shape)\n",
    "print(X_val.shape)\n",
    "print(X_test.shape)\n",
    "print(y_train.shape)\n",
    "print(y_val.shape)\n",
    "print(y_test.shape)"
   ]
  },
  {
   "cell_type": "markdown",
   "id": "3f1396e8",
   "metadata": {},
   "source": [
    "# Baseline Model"
   ]
  },
  {
   "cell_type": "code",
   "execution_count": 195,
   "id": "82c670ec",
   "metadata": {},
   "outputs": [
    {
     "name": "stdout",
     "output_type": "stream",
     "text": [
      "Model: \"model_118\"\n",
      "_________________________________________________________________\n",
      " Layer (type)                Output Shape              Param #   \n",
      "=================================================================\n",
      " input_150 (InputLayer)      [(None, 256, 256, 1)]     0         \n",
      "                                                                 \n",
      " conv2d_440 (Conv2D)         (None, 256, 256, 16)      160       \n",
      "                                                                 \n",
      " max_pooling2d_439 (MaxPooli  (None, 128, 128, 16)     0         \n",
      " ng2D)                                                           \n",
      "                                                                 \n",
      " conv2d_441 (Conv2D)         (None, 128, 128, 32)      4640      \n",
      "                                                                 \n",
      " max_pooling2d_440 (MaxPooli  (None, 64, 64, 32)       0         \n",
      " ng2D)                                                           \n",
      "                                                                 \n",
      " flatten_121 (Flatten)       (None, 131072)            0         \n",
      "                                                                 \n",
      " dense_339 (Dense)           (None, 16)                2097168   \n",
      "                                                                 \n",
      " dense_340 (Dense)           (None, 2)                 34        \n",
      "                                                                 \n",
      "=================================================================\n",
      "Total params: 2,102,002\n",
      "Trainable params: 2,102,002\n",
      "Non-trainable params: 0\n",
      "_________________________________________________________________\n"
     ]
    }
   ],
   "source": [
    "input_layer = Input(shape = (256, 256, 1))\n",
    "\n",
    "conv1 = Conv2D(filters = 16, kernel_size = 3, strides = 1, padding = 'same', activation = 'relu')(input_layer)\n",
    "pool1 = MaxPooling2D(pool_size = 2, strides = 2)(conv1)\n",
    "\n",
    "conv2 = Conv2D(filters = 32, kernel_size = 3, strides = 1, padding = 'same', activation = 'relu')(pool1)\n",
    "pool2 = MaxPooling2D(pool_size = 2, strides = 2)(conv2)\n",
    "\n",
    "flatten = Flatten()(pool2)\n",
    "\n",
    "dense1 = Dense(16, activation = 'relu')(flatten)\n",
    "output = Dense(2, activation = 'softmax')(dense1)\n",
    "\n",
    "base_model = Model(inputs = input_layer, outputs = output)\n",
    "\n",
    "base_model.summary()"
   ]
  },
  {
   "cell_type": "code",
   "execution_count": 196,
   "id": "9f69003e",
   "metadata": {},
   "outputs": [],
   "source": [
    "optimizer = optimizers.sgd_experimental.SGD(learning_rate=0.001)\n",
    "base_model.compile(loss = 'sparse_categorical_crossentropy', optimizer=optimizer, metrics = ['accuracy'])"
   ]
  },
  {
   "cell_type": "code",
   "execution_count": 197,
   "id": "ca3ba096",
   "metadata": {},
   "outputs": [
    {
     "name": "stdout",
     "output_type": "stream",
     "text": [
      "Wall time: 7min 15s\n"
     ]
    }
   ],
   "source": [
    "%%time\n",
    "early = EarlyStopping(monitor = 'val_loss', patience = 10, restore_best_weights=True)\n",
    "history = base_model.fit(X_train, y_train, batch_size=32, epochs=100, verbose = 0,\n",
    "                         validation_data=(X_val, y_val), callbacks = [early])"
   ]
  },
  {
   "cell_type": "code",
   "execution_count": 198,
   "id": "1cc91580",
   "metadata": {},
   "outputs": [
    {
     "data": {
      "image/png": "[encoded data removed]",
      "text/plain": [
       "<Figure size 864x576 with 1 Axes>"
      ]
     },
     "metadata": {
      "needs_background": "light"
     },
     "output_type": "display_data"
    }
   ],
   "source": [
    "plt.figure(figsize = (12,8))\n",
    "plt.plot(history.history['accuracy'], label='train')\n",
    "plt.plot(history.history['val_accuracy'], label='val')\n",
    "plt.grid(True)\n",
    "plt.xlabel(\"Epoch\")\n",
    "plt.ylabel(\"Accuracy\")\n",
    "plt.title(\"Train and Validation Accuracy During Training with Early Stoppping\")\n",
    "plt.legend()\n",
    "plt.show()"
   ]
  },
  {
   "cell_type": "markdown",
   "id": "a84168c5",
   "metadata": {},
   "source": [
    "## Adding Data Augmentation, Dropout, Batch Normalization, L2, and Learning Rate Schedule"
   ]
  },
  {
   "cell_type": "code",
   "execution_count": 56,
   "id": "8be5a0ba",
   "metadata": {},
   "outputs": [],
   "source": [
    "datagen = ImageDataGenerator(\n",
    "    rotation_range = 15,\n",
    "    width_shift_range = 0.2,\n",
    "    height_shift_range = 0.2,\n",
    "    brightness_range = (.25, .75),\n",
    "    shear_range = .2,\n",
    "    zoom_range = .2,\n",
    "    horizontal_flip = True,\n",
    "    vertical_flip = True,\n",
    ")\n",
    "datagen.fit(X_train[:, :, :, np.newaxis])"
   ]
  },
  {
   "cell_type": "code",
   "execution_count": 57,
   "id": "d7160830",
   "metadata": {},
   "outputs": [
    {
     "name": "stdout",
     "output_type": "stream",
     "text": [
      "Model: \"model_7\"\n",
      "_________________________________________________________________\n",
      " Layer (type)                Output Shape              Param #   \n",
      "=================================================================\n",
      " input_20 (InputLayer)       [(None, 256, 256, 1)]     0         \n",
      "                                                                 \n",
      " conv2d_23 (Conv2D)          (None, 256, 256, 16)      160       \n",
      "                                                                 \n",
      " max_pooling2d_22 (MaxPoolin  (None, 128, 128, 16)     0         \n",
      " g2D)                                                            \n",
      "                                                                 \n",
      " batch_normalization_20 (Bat  (None, 128, 128, 16)     64        \n",
      " chNormalization)                                                \n",
      "                                                                 \n",
      " conv2d_24 (Conv2D)          (None, 128, 128, 32)      4640      \n",
      "                                                                 \n",
      " max_pooling2d_23 (MaxPoolin  (None, 64, 64, 32)       0         \n",
      " g2D)                                                            \n",
      "                                                                 \n",
      " batch_normalization_21 (Bat  (None, 64, 64, 32)       128       \n",
      " chNormalization)                                                \n",
      "                                                                 \n",
      " flatten_10 (Flatten)        (None, 131072)            0         \n",
      "                                                                 \n",
      " dropout_18 (Dropout)        (None, 131072)            0         \n",
      "                                                                 \n",
      " dense_28 (Dense)            (None, 16)                2097168   \n",
      "                                                                 \n",
      " dropout_19 (Dropout)        (None, 16)                0         \n",
      "                                                                 \n",
      " dense_29 (Dense)            (None, 2)                 34        \n",
      "                                                                 \n",
      "=================================================================\n",
      "Total params: 2,102,194\n",
      "Trainable params: 2,102,098\n",
      "Non-trainable params: 96\n",
      "_________________________________________________________________\n"
     ]
    }
   ],
   "source": [
    "weight_decay = 1e-4\n",
    "\n",
    "input_layer = Input(shape = (256, 256, 1))\n",
    "\n",
    "conv1 = Conv2D(filters = 16, kernel_size = 3, strides = 1, padding = 'same',\n",
    "               kernel_regularizer = l2(weight_decay), activation = 'relu')(input_layer)\n",
    "pool1 = MaxPooling2D(pool_size = 2, strides = 2)(conv1)\n",
    "batch1 = BatchNormalization()(pool1)\n",
    "\n",
    "\n",
    "conv2 = Conv2D(filters = 32, kernel_size = 3, strides = 1, padding = 'same', \n",
    "               kernel_regularizer = l2(weight_decay), activation = 'relu')(batch1)\n",
    "pool2 = MaxPooling2D(pool_size = 2, strides = 2)(conv2)\n",
    "batch2 = BatchNormalization()(pool2)\n",
    "\n",
    "flatten = Flatten()(batch2)\n",
    "drop1 = Dropout(.1)(flatten)\n",
    "\n",
    "dense1 = Dense(16, activation = 'relu')(drop1)\n",
    "drop2 = Dropout(.1)(dense1)\n",
    "\n",
    "output = Dense(2, activation = 'softmax')(drop2)\n",
    "\n",
    "reg_model = Model(inputs = input_layer, outputs = output)\n",
    "\n",
    "reg_model.summary()"
   ]
  },
  {
   "cell_type": "code",
   "execution_count": 226,
   "id": "dcfbdb29",
   "metadata": {},
   "outputs": [],
   "source": [
    "optimizer = optimizers.sgd_experimental.SGD(learning_rate=0.0001)\n",
    "reg_model.compile(loss = 'sparse_categorical_crossentropy', optimizer=optimizer, metrics = ['accuracy'])"
   ]
  },
  {
   "cell_type": "code",
   "execution_count": 227,
   "id": "d303ff94",
   "metadata": {},
   "outputs": [
    {
     "name": "stdout",
     "output_type": "stream",
     "text": [
      "Wall time: 50.4 s\n"
     ]
    }
   ],
   "source": [
    "%%time\n",
    "early = EarlyStopping(monitor = 'val_loss', patience = 10)\n",
    "\n",
    "history2 = reg_model.fit(datagen.flow(X_train[:, :, :, np.newaxis], y_train, batch_size=32), \n",
    "                     epochs=100, verbose = 0, validation_data=(X_val, y_val), \n",
    "                     callbacks = [early])"
   ]
  },
  {
   "cell_type": "code",
   "execution_count": 228,
   "id": "59847c2a",
   "metadata": {},
   "outputs": [
    {
     "data": {
      "image/png": "[encoded data removed]",
      "text/plain": [
       "<Figure size 864x576 with 1 Axes>"
      ]
     },
     "metadata": {
      "needs_background": "light"
     },
     "output_type": "display_data"
    }
   ],
   "source": [
    "plt.figure(figsize = (12,8))\n",
    "plt.plot(history2.history['accuracy'], label='train')\n",
    "plt.plot(history2.history['val_accuracy'], label='val')\n",
    "plt.grid(True)\n",
    "plt.xlabel(\"Epoch\")\n",
    "plt.ylabel(\"Accuracy\")\n",
    "plt.title(\"Train and Validation Accuracy During Training with Early Stoppping\")\n",
    "plt.legend()\n",
    "plt.show()"
   ]
  },
  {
   "cell_type": "markdown",
   "id": "e8a2bded",
   "metadata": {},
   "source": [
    "# Hyperparameter Tuning"
   ]
  },
  {
   "cell_type": "code",
   "execution_count": 149,
   "id": "46663c5a",
   "metadata": {},
   "outputs": [],
   "source": [
    "datagen = ImageDataGenerator(\n",
    "    rotation_range = 15,\n",
    "    width_shift_range = 0.2,\n",
    "    height_shift_range = 0.2,\n",
    "    horizontal_flip = True,\n",
    ")\n",
    "datagen.fit(X_train[:, :, :, np.newaxis])"
   ]
  },
  {
   "cell_type": "code",
   "execution_count": 234,
   "id": "50058e9f",
   "metadata": {},
   "outputs": [],
   "source": [
    "def build_cnn_model(n_conv = 2, filters = 2, conv_strides = 1, kernel_size = 3,\n",
    "                    n_dense=2, n_neurons=16,\n",
    "                    drop_rate=.2, optimizer=\"Adam\", lr_rate=0.001, \n",
    "                    momentum = .9, nesterov = False, weight_decay = 1e-4):\n",
    "    \"\"\"\n",
    "    This function creates a deep learning model with default parameters. This function is used to tune the hyperparameters. \n",
    "    \n",
    "    returns: functional style keras model\n",
    "    \n",
    "    \"\"\"\n",
    "    input_layer = Input(shape = (256, 256, 1))\n",
    "    x = input_layer\n",
    "    \n",
    "    for block in range(n_conv):\n",
    "        x = Conv2D(filters = filters, kernel_size = (kernel_size,kernel_size), \n",
    "                   padding = 'same', kernel_regularizer = l2(weight_decay), activation = 'relu')(x)\n",
    "        x = MaxPooling2D(pool_size = 2, strides = 2)(x)\n",
    "        x = BatchNormalization()(x)\n",
    "        filters *= 2\n",
    "            \n",
    "    x = Flatten()(x)\n",
    "    \n",
    "    for layer in range(n_dense):\n",
    "        x = Dense(n_neurons, activation = 'relu', kernel_regularizer = l2(weight_decay))(x)\n",
    "        x = Dropout(rate = drop_rate)(x)\n",
    "    \n",
    "    x = Dense(2, activation = 'softmax')(x)\n",
    "    \n",
    "    model = Model(inputs = input_layer, outputs = x)\n",
    "\n",
    "    if optimizer == \"SGD\":\n",
    "        optimizer = gradient_descent_v2.SGD(learning_rate=lr_rate, momentum=momentum, nesterov=nesterov)\n",
    "    elif optimizer == \"Adam\":\n",
    "        optimizer = adam_v2.Adam(learning_rate=lr_rate)\n",
    "    else:\n",
    "        optimizer = rmsprop_v2.RMSprop(learning_rate=lr_rate, momentum = momentum)\n",
    "\n",
    "    model.compile(loss=\"sparse_categorical_crossentropy\", optimizer=optimizer, metrics = [\"accuracy\"])\n",
    "\n",
    "    return model"
   ]
  },
  {
   "cell_type": "code",
   "execution_count": 185,
   "id": "132469ac",
   "metadata": {},
   "outputs": [],
   "source": [
    "#Grid of hyperparameters to search through\n",
    "param_distribs = {\n",
    "    \"n_conv\": [2, 3, 4, 5],\n",
    "    \"kernel_size\" : [2,3,4],\n",
    "    \"filters\": [4, 8, 16, 32],\n",
    "    \"n_dense\": [0, 1, 2, 3],\n",
    "    \"n_neurons\": [8, 16, 32, 64, 128],\n",
    "    \"drop_rate\" : [0.20, 0.25, 0.30, 0.35, 0.40, 0.45, 0.5],\n",
    "    \"lr_rate\" : [.0001, .0005, 0.001, .005, 0.01, .05, .01, .05],\n",
    "    \"optimizer\" : [\"SGD\", \"Adam\",\"RMSprop\"],\n",
    "    \"momentum\" : [0.95, 0.99, 0.999, 0.9999],\n",
    "    \"nesterov\" : [True, False],\n",
    "    \"weight_decay\": [1e-2, 1e-3, 1e-4, 1e-5, 1e-6]\n",
    "    }\n",
    "\n",
    "#Number of models to consider\n",
    "num_models = 30\n",
    "param_list = list(ParameterSampler(param_distribs, n_iter = num_models))"
   ]
  },
  {
   "cell_type": "code",
   "execution_count": 186,
   "id": "f9a96f5b",
   "metadata": {},
   "outputs": [
    {
     "name": "stdout",
     "output_type": "stream",
     "text": [
      "Done with 10 of 30\n",
      "Done with 20 of 30\n",
      "Done with 30 of 30\n",
      "Wall time: 1h 22min 14s\n"
     ]
    }
   ],
   "source": [
    "%%time\n",
    "val_score = list()\n",
    "batch = list()\n",
    "count = 1\n",
    "early  = EarlyStopping(monitor = 'val_loss', patience = 5)\n",
    "\n",
    "for params in param_list:\n",
    "    model = build_cnn_model(**params)\n",
    "    batch_size = np.random.choice([32, 64, 128, 256])\n",
    "    batch.append(batch_size)\n",
    "    history = model.fit(datagen.flow(X_train[:, :, :, np.newaxis], y_train, batch_size = batch_size),\n",
    "                       epochs = 100, verbose = 0, validation_data = (X_val, y_val),\n",
    "                       callbacks = [early])\n",
    "    min_val_index = np.argmax(history.history['val_accuracy'])\n",
    "    min_val = history.history['val_accuracy'][min_val_index]\n",
    "    val_score.append(min_val)\n",
    "    #print(count)\n",
    "    if count % 10 == 0:\n",
    "        print(f'Done with {count} of {num_models}')\n",
    "    count += 1"
   ]
  },
  {
   "cell_type": "code",
   "execution_count": 190,
   "id": "fba4df7b",
   "metadata": {},
   "outputs": [
    {
     "data": {
      "text/html": [
       "<div>\n",
       "<style scoped>\n",
       "    .dataframe tbody tr th:only-of-type {\n",
       "        vertical-align: middle;\n",
       "    }\n",
       "\n",
       "    .dataframe tbody tr th {\n",
       "        vertical-align: top;\n",
       "    }\n",
       "\n",
       "    .dataframe thead th {\n",
       "        text-align: right;\n",
       "    }\n",
       "</style>\n",
       "<table border=\"1\" class=\"dataframe\">\n",
       "  <thead>\n",
       "    <tr style=\"text-align: right;\">\n",
       "      <th></th>\n",
       "      <th>weight_decay</th>\n",
       "      <th>optimizer</th>\n",
       "      <th>nesterov</th>\n",
       "      <th>n_neurons</th>\n",
       "      <th>n_dense</th>\n",
       "      <th>n_conv</th>\n",
       "      <th>momentum</th>\n",
       "      <th>lr_rate</th>\n",
       "      <th>kernel_size</th>\n",
       "      <th>filters</th>\n",
       "      <th>drop_rate</th>\n",
       "      <th>Batch Size</th>\n",
       "      <th>Validation Accuracy</th>\n",
       "    </tr>\n",
       "  </thead>\n",
       "  <tbody>\n",
       "    <tr>\n",
       "      <th>8</th>\n",
       "      <td>0.000100</td>\n",
       "      <td>Adam</td>\n",
       "      <td>True</td>\n",
       "      <td>128</td>\n",
       "      <td>2</td>\n",
       "      <td>3</td>\n",
       "      <td>0.999</td>\n",
       "      <td>0.0005</td>\n",
       "      <td>4</td>\n",
       "      <td>8</td>\n",
       "      <td>0.25</td>\n",
       "      <td>32</td>\n",
       "      <td>0.764706</td>\n",
       "    </tr>\n",
       "    <tr>\n",
       "      <th>20</th>\n",
       "      <td>0.000010</td>\n",
       "      <td>RMSprop</td>\n",
       "      <td>False</td>\n",
       "      <td>8</td>\n",
       "      <td>0</td>\n",
       "      <td>5</td>\n",
       "      <td>0.990</td>\n",
       "      <td>0.0100</td>\n",
       "      <td>3</td>\n",
       "      <td>16</td>\n",
       "      <td>0.50</td>\n",
       "      <td>32</td>\n",
       "      <td>0.745098</td>\n",
       "    </tr>\n",
       "    <tr>\n",
       "      <th>9</th>\n",
       "      <td>0.000001</td>\n",
       "      <td>SGD</td>\n",
       "      <td>True</td>\n",
       "      <td>128</td>\n",
       "      <td>2</td>\n",
       "      <td>3</td>\n",
       "      <td>0.999</td>\n",
       "      <td>0.0010</td>\n",
       "      <td>3</td>\n",
       "      <td>8</td>\n",
       "      <td>0.50</td>\n",
       "      <td>256</td>\n",
       "      <td>0.745098</td>\n",
       "    </tr>\n",
       "    <tr>\n",
       "      <th>0</th>\n",
       "      <td>0.010000</td>\n",
       "      <td>Adam</td>\n",
       "      <td>True</td>\n",
       "      <td>8</td>\n",
       "      <td>0</td>\n",
       "      <td>5</td>\n",
       "      <td>0.999</td>\n",
       "      <td>0.0050</td>\n",
       "      <td>4</td>\n",
       "      <td>16</td>\n",
       "      <td>0.35</td>\n",
       "      <td>256</td>\n",
       "      <td>0.725490</td>\n",
       "    </tr>\n",
       "    <tr>\n",
       "      <th>27</th>\n",
       "      <td>0.000100</td>\n",
       "      <td>RMSprop</td>\n",
       "      <td>False</td>\n",
       "      <td>8</td>\n",
       "      <td>1</td>\n",
       "      <td>2</td>\n",
       "      <td>0.999</td>\n",
       "      <td>0.0100</td>\n",
       "      <td>2</td>\n",
       "      <td>32</td>\n",
       "      <td>0.40</td>\n",
       "      <td>64</td>\n",
       "      <td>0.725490</td>\n",
       "    </tr>\n",
       "  </tbody>\n",
       "</table>\n",
       "</div>"
      ],
      "text/plain": [
       "    weight_decay optimizer  nesterov  n_neurons  n_dense  n_conv  momentum  \\\n",
       "8       0.000100      Adam      True        128        2       3     0.999   \n",
       "20      0.000010   RMSprop     False          8        0       5     0.990   \n",
       "9       0.000001       SGD      True        128        2       3     0.999   \n",
       "0       0.010000      Adam      True          8        0       5     0.999   \n",
       "27      0.000100   RMSprop     False          8        1       2     0.999   \n",
       "\n",
       "    lr_rate  kernel_size  filters  drop_rate  Batch Size  Validation Accuracy  \n",
       "8    0.0005            4        8       0.25          32             0.764706  \n",
       "20   0.0100            3       16       0.50          32             0.745098  \n",
       "9    0.0010            3        8       0.50         256             0.745098  \n",
       "0    0.0050            4       16       0.35         256             0.725490  \n",
       "27   0.0100            2       32       0.40          64             0.725490  "
      ]
     },
     "execution_count": 190,
     "metadata": {},
     "output_type": "execute_result"
    }
   ],
   "source": [
    "#Save the results in a dataframe\n",
    "model_param_df = pd.DataFrame(param_list)\n",
    "model_param_df[\"Batch Size\"] = batch\n",
    "model_param_df[\"Validation Accuracy\"] = val_score\n",
    "#Rank the results by the validation f1\n",
    "model_param_df.sort_values(by=\"Validation Accuracy\", ascending = False, inplace=True)\n",
    "model_param_df.head()"
   ]
  },
  {
   "cell_type": "markdown",
   "id": "e3d3051f",
   "metadata": {},
   "source": [
    "# Test Scores"
   ]
  },
  {
   "cell_type": "markdown",
   "id": "0ffd7eed",
   "metadata": {},
   "source": [
    "### Baseline Model"
   ]
  },
  {
   "cell_type": "code",
   "execution_count": 227,
   "id": "a2486854",
   "metadata": {},
   "outputs": [
    {
     "name": "stdout",
     "output_type": "stream",
     "text": [
      "Baseline Model Test Accuracy: 84.31%\n"
     ]
    }
   ],
   "source": [
    "baseline_score = base_model.evaluate(X_test, y_test, batch_size = 32, verbose = 0)\n",
    "base_test_acc = baseline_score[1] * 100\n",
    "print(f'Baseline Model Test Accuracy: {base_test_acc:.2f}%')"
   ]
  },
  {
   "cell_type": "code",
   "execution_count": 260,
   "id": "2bda2c85",
   "metadata": {},
   "outputs": [
    {
     "data": {
      "text/plain": [
       "array([[15,  5],\n",
       "       [ 3, 28]], dtype=int64)"
      ]
     },
     "execution_count": 260,
     "metadata": {},
     "output_type": "execute_result"
    }
   ],
   "source": [
    "y_pred = np.argmax(base_model.predict(X_test, verbose = 0), axis = 1)\n",
    "confusion_matrix(y_test, y_pred)"
   ]
  },
  {
   "cell_type": "markdown",
   "id": "d90ff5a3",
   "metadata": {},
   "source": [
    "### Tuned Model"
   ]
  },
  {
   "cell_type": "code",
   "execution_count": 236,
   "id": "10150027",
   "metadata": {},
   "outputs": [],
   "source": [
    "max_acc = model_param_df[\"Validation Accuracy\"].argmax()\n",
    "best_n_conv = model_param_df.loc[max_acc, \"n_conv\"]\n",
    "best_filters = model_param_df.loc[max_acc, \"filters\"]\n",
    "best_kernel_size = model_param_df.loc[max_acc, \"kernel_size\"]\n",
    "best_n_dense = model_param_df.loc[max_acc, \"n_dense\"]\n",
    "best_n_neurons = model_param_df.loc[max_acc, \"n_neurons\"]\n",
    "best_drop_rate = model_param_df.loc[max_acc, \"drop_rate\"]\n",
    "best_optimizer = model_param_df.loc[max_acc, \"optimizer\"]\n",
    "best_lr_rate = model_param_df.loc[max_acc, \"lr_rate\"]\n",
    "best_momentum = model_param_df.loc[max_acc, \"momentum\"]\n",
    "best_nesterov = model_param_df.loc[max_acc, \"nesterov\"]\n",
    "best_weight_decay = model_param_df.loc[max_acc, \"weight_decay\"]\n",
    "best_batch = model_param_df.loc[max_acc, \"Batch Size\"]\n",
    "\n",
    "tuned_model = build_cnn_model(n_conv = best_n_conv, filters = best_filters,\n",
    "                              kernel_size = best_kernel_size,\n",
    "                              n_dense=best_n_dense, n_neurons=best_n_neurons,\n",
    "                              drop_rate=best_drop_rate, optimizer=best_optimizer, lr_rate=best_lr_rate, \n",
    "                              momentum = best_momentum, nesterov = best_nesterov, weight_decay = best_weight_decay)"
   ]
  },
  {
   "cell_type": "code",
   "execution_count": 237,
   "id": "cbf9685b",
   "metadata": {},
   "outputs": [
    {
     "name": "stdout",
     "output_type": "stream",
     "text": [
      "Wall time: 2min 34s\n"
     ]
    }
   ],
   "source": [
    "%%time\n",
    "early = EarlyStopping(monitor = 'val_loss', patience = 10, restore_best_weights=True)\n",
    "tuned_history = tuned_model.fit(datagen.flow(X_train[:, :, :, np.newaxis], y_train, batch_size = best_batch),\n",
    "                       epochs = 100, verbose = 0, validation_data = (X_val, y_val),\n",
    "                       callbacks = [early])"
   ]
  },
  {
   "cell_type": "code",
   "execution_count": 238,
   "id": "9a1e2301",
   "metadata": {},
   "outputs": [
    {
     "data": {
      "image/png": "[encoded data removed]",
      "text/plain": [
       "<Figure size 864x576 with 1 Axes>"
      ]
     },
     "metadata": {
      "needs_background": "light"
     },
     "output_type": "display_data"
    }
   ],
   "source": [
    "plt.figure(figsize = (12,8))\n",
    "plt.plot(tuned_history.history['accuracy'], label='train')\n",
    "plt.plot(tuned_history.history['val_accuracy'], label='val')\n",
    "plt.grid(True)\n",
    "plt.xlabel(\"Epoch\")\n",
    "plt.ylabel(\"Accuracy\")\n",
    "plt.title(\"Train and Validation Accuracy During Training with Early Stoppping\")\n",
    "plt.legend()\n",
    "plt.show()"
   ]
  },
  {
   "cell_type": "code",
   "execution_count": 241,
   "id": "72ff0eeb",
   "metadata": {},
   "outputs": [
    {
     "name": "stdout",
     "output_type": "stream",
     "text": [
      "Tuned Model Test Accuracy: 60.78%\n"
     ]
    }
   ],
   "source": [
    "tuned_score = tuned_model.evaluate(X_test, y_test, batch_size = 32, verbose = 0)\n",
    "tuned_test_acc = tuned_score[1] * 100\n",
    "print(f'Tuned Model Test Accuracy: {tuned_test_acc:.2f}%')"
   ]
  },
  {
   "cell_type": "code",
   "execution_count": 259,
   "id": "6c113bdc",
   "metadata": {},
   "outputs": [
    {
     "data": {
      "text/plain": [
       "array([[ 0, 20],\n",
       "       [ 0, 31]], dtype=int64)"
      ]
     },
     "execution_count": 259,
     "metadata": {},
     "output_type": "execute_result"
    }
   ],
   "source": [
    "y_pred = np.argmax(tuned_model.predict(X_test, verbose = 0), axis = 1)\n",
    "confusion_matrix(y_test, y_pred)"
   ]
  }
 ],
 "metadata": {
  "kernelspec": {
   "display_name": "Python 3",
   "language": "python",
   "name": "python3"
  },
  "language_info": {
   "codemirror_mode": {
    "name": "ipython",
    "version": 3
   },
   "file_extension": ".py",
   "mimetype": "text/x-python",
   "name": "python",
   "nbconvert_exporter": "python",
   "pygments_lexer": "ipython3",
   "version": "3.8.8"
  }
 },
 "nbformat": 4,
 "nbformat_minor": 5
}
