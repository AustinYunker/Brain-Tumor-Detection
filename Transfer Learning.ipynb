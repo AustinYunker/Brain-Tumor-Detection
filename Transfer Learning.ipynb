{
 "cells": [
  {
   "cell_type": "markdown",
   "id": "aa35697d",
   "metadata": {},
   "source": [
    "# Setup and Imports"
   ]
  },
  {
   "cell_type": "code",
   "execution_count": 2,
   "id": "26b75461",
   "metadata": {},
   "outputs": [],
   "source": [
    "import prepare_MRI_images as pmi\n",
    "import os\n",
    "import numpy as np\n",
    "import pandas as pd\n",
    "import matplotlib.pyplot as plt\n",
    "%matplotlib inline\n",
    "from sklearn.model_selection import train_test_split\n",
    "from sklearn.metrics import accuracy_score, recall_score\n",
    "from keras.models import Model\n",
    "from keras.layers import Conv2D, MaxPooling2D, Flatten, Dense, Input, BatchNormalization, Dropout\n",
    "from keras.regularizers import l2\n",
    "from keras.callbacks import EarlyStopping, LearningRateScheduler, ReduceLROnPlateau\n",
    "from keras.optimizers import adam_v2, rmsprop_v2\n",
    "from keras.optimizers import gradient_descent_v2\n",
    "from keras import optimizers\n",
    "from keras.preprocessing.image import ImageDataGenerator\n",
    "from sklearn.model_selection import ParameterSampler\n",
    "from scipy.stats import reciprocal\n",
    "\n",
    "from keras.applications import vgg16, xception, ResNet50V2, InceptionResNetV2, EfficientNetB7"
   ]
  },
  {
   "cell_type": "markdown",
   "id": "a3b98a5d",
   "metadata": {},
   "source": [
    "# Get the Data"
   ]
  },
  {
   "cell_type": "code",
   "execution_count": 20,
   "id": "f2f5fe60",
   "metadata": {},
   "outputs": [],
   "source": [
    "no_tumor_path = 'brain-mri-images-for-brain-tumor-detection/no'\n",
    "tumor_path = 'brain-mri-images-for-brain-tumor-detection/yes'\n",
    "width = 256\n",
    "height = 256\n",
    "color = 'RGB'\n",
    "num_no_tumors = len(os.listdir(no_tumor_path))\n",
    "num_tumors = len(os.listdir(tumor_path))\n",
    "\n",
    "X, y = pmi.clean_MRI_scans(no_tumor_path, tumor_path, width, height, color, num_no_tumors, num_tumors)"
   ]
  },
  {
   "cell_type": "code",
   "execution_count": 21,
   "id": "ef3eaf38",
   "metadata": {},
   "outputs": [
    {
     "name": "stdout",
     "output_type": "stream",
     "text": [
      "(253, 256, 256, 3)\n",
      "(253,)\n"
     ]
    }
   ],
   "source": [
    "print(X.shape)\n",
    "print(y.shape)"
   ]
  },
  {
   "cell_type": "markdown",
   "id": "986704ff",
   "metadata": {},
   "source": [
    "# Split the Data into Training and Test Sets"
   ]
  },
  {
   "cell_type": "code",
   "execution_count": 22,
   "id": "60e231f2",
   "metadata": {},
   "outputs": [],
   "source": [
    "X_train, X_test, y_train, y_test = train_test_split(X, y, test_size = .2, random_state=42, stratify=y) \n",
    "X_train, X_val, y_train, y_val = train_test_split(X_train, y_train, test_size = .25, random_state=42, stratify=y_train) "
   ]
  },
  {
   "cell_type": "code",
   "execution_count": 23,
   "id": "afca07ef",
   "metadata": {},
   "outputs": [
    {
     "name": "stdout",
     "output_type": "stream",
     "text": [
      "(151, 256, 256, 3)\n",
      "(51, 256, 256, 3)\n",
      "(51, 256, 256, 3)\n",
      "(151,)\n",
      "(51,)\n",
      "(51,)\n"
     ]
    }
   ],
   "source": [
    "print(X_train.shape)\n",
    "print(X_val.shape)\n",
    "print(X_test.shape)\n",
    "print(y_train.shape)\n",
    "print(y_val.shape)\n",
    "print(y_test.shape)"
   ]
  },
  {
   "cell_type": "code",
   "execution_count": 25,
   "id": "684da6c7",
   "metadata": {},
   "outputs": [],
   "source": [
    "datagen = ImageDataGenerator(\n",
    "    rotation_range = 15,\n",
    "    width_shift_range = 0.2,\n",
    "    height_shift_range = 0.2,\n",
    "    horizontal_flip = True,\n",
    ")\n",
    "datagen.fit(X_train)"
   ]
  },
  {
   "cell_type": "markdown",
   "id": "7fb81675",
   "metadata": {},
   "source": [
    "# Transfer Learning"
   ]
  },
  {
   "cell_type": "markdown",
   "id": "52396bc4",
   "metadata": {},
   "source": [
    "## VGG16 Architecture"
   ]
  },
  {
   "cell_type": "code",
   "execution_count": 9,
   "id": "b6f10239",
   "metadata": {},
   "outputs": [],
   "source": [
    "vgg16_model = vgg16.VGG16(weights = 'imagenet', include_top = False, input_shape = (256, 256, 3), pooling = 'avg')"
   ]
  },
  {
   "cell_type": "code",
   "execution_count": 10,
   "id": "385a51c7",
   "metadata": {},
   "outputs": [],
   "source": [
    "for layer in vgg16_model.layers[:-5]:\n",
    "    layer.trainable = False"
   ]
  },
  {
   "cell_type": "code",
   "execution_count": 26,
   "id": "0f8d1e4a",
   "metadata": {},
   "outputs": [
    {
     "name": "stdout",
     "output_type": "stream",
     "text": [
      "Model: \"model_1\"\n",
      "_________________________________________________________________\n",
      " Layer (type)                Output Shape              Param #   \n",
      "=================================================================\n",
      " input_1 (InputLayer)        [(None, 256, 256, 3)]     0         \n",
      "                                                                 \n",
      " block1_conv1 (Conv2D)       (None, 256, 256, 64)      1792      \n",
      "                                                                 \n",
      " block1_conv2 (Conv2D)       (None, 256, 256, 64)      36928     \n",
      "                                                                 \n",
      " block1_pool (MaxPooling2D)  (None, 128, 128, 64)      0         \n",
      "                                                                 \n",
      " block2_conv1 (Conv2D)       (None, 128, 128, 128)     73856     \n",
      "                                                                 \n",
      " block2_conv2 (Conv2D)       (None, 128, 128, 128)     147584    \n",
      "                                                                 \n",
      " block2_pool (MaxPooling2D)  (None, 64, 64, 128)       0         \n",
      "                                                                 \n",
      " block3_conv1 (Conv2D)       (None, 64, 64, 256)       295168    \n",
      "                                                                 \n",
      " block3_conv2 (Conv2D)       (None, 64, 64, 256)       590080    \n",
      "                                                                 \n",
      " block3_conv3 (Conv2D)       (None, 64, 64, 256)       590080    \n",
      "                                                                 \n",
      " block3_pool (MaxPooling2D)  (None, 32, 32, 256)       0         \n",
      "                                                                 \n",
      " block4_conv1 (Conv2D)       (None, 32, 32, 512)       1180160   \n",
      "                                                                 \n",
      " block4_conv2 (Conv2D)       (None, 32, 32, 512)       2359808   \n",
      "                                                                 \n",
      " block4_conv3 (Conv2D)       (None, 32, 32, 512)       2359808   \n",
      "                                                                 \n",
      " block4_pool (MaxPooling2D)  (None, 16, 16, 512)       0         \n",
      "                                                                 \n",
      " block5_conv1 (Conv2D)       (None, 16, 16, 512)       2359808   \n",
      "                                                                 \n",
      " block5_conv2 (Conv2D)       (None, 16, 16, 512)       2359808   \n",
      "                                                                 \n",
      " block5_conv3 (Conv2D)       (None, 16, 16, 512)       2359808   \n",
      "                                                                 \n",
      " block5_pool (MaxPooling2D)  (None, 8, 8, 512)         0         \n",
      "                                                                 \n",
      " global_average_pooling2d (G  (None, 512)              0         \n",
      " lobalAveragePooling2D)                                          \n",
      "                                                                 \n",
      " dense_1 (Dense)             (None, 2)                 1026      \n",
      "                                                                 \n",
      "=================================================================\n",
      "Total params: 14,715,714\n",
      "Trainable params: 7,080,450\n",
      "Non-trainable params: 7,635,264\n",
      "_________________________________________________________________\n"
     ]
    }
   ],
   "source": [
    "last_output = vgg16_model.output\n",
    "\n",
    "x = Dense(2, activation = 'softmax')(last_output)\n",
    "\n",
    "new_vgg16_model = Model(inputs = vgg16_model.input, outputs = x)\n",
    "\n",
    "new_vgg16_model.summary()"
   ]
  },
  {
   "cell_type": "code",
   "execution_count": 27,
   "id": "b97e903a",
   "metadata": {},
   "outputs": [],
   "source": [
    "new_vgg16_model.compile(optimizer = adam_v2.Adam(learning_rate = 0.0001), \n",
    "                        loss = 'sparse_categorical_crossentropy', metrics = [\"accuracy\"])"
   ]
  },
  {
   "cell_type": "code",
   "execution_count": 29,
   "id": "79ca39be",
   "metadata": {},
   "outputs": [],
   "source": [
    "early = EarlyStopping(monitor = 'val_loss', patience = 5)\n",
    "vgg_history = new_vgg16_model.fit(datagen.flow(X_train, y_train, batch_size = 32),\n",
    "                       epochs = 100, verbose = 0, validation_data = (X_val, y_val),\n",
    "                       callbacks = [early])"
   ]
  },
  {
   "cell_type": "code",
   "execution_count": 31,
   "id": "08350c14",
   "metadata": {},
   "outputs": [
    {
     "data": {
      "image/png": "[encoded data removed]",
      "text/plain": [
       "<Figure size 864x576 with 1 Axes>"
      ]
     },
     "metadata": {
      "needs_background": "light"
     },
     "output_type": "display_data"
    }
   ],
   "source": [
    "plt.figure(figsize = (12,8))\n",
    "plt.plot(vgg_history.history['accuracy'], label='train')\n",
    "plt.plot(vgg_history.history['val_accuracy'], label='val')\n",
    "plt.grid(True)\n",
    "plt.xlabel(\"Epoch\")\n",
    "plt.ylabel(\"Accuracy\")\n",
    "plt.title(\"Train and Validation Accuracy During Training with Early Stoppping\")\n",
    "plt.legend()\n",
    "plt.show()"
   ]
  },
  {
   "cell_type": "markdown",
   "id": "c6c67681",
   "metadata": {},
   "source": [
    "## Xception Architecture"
   ]
  },
  {
   "cell_type": "code",
   "execution_count": 32,
   "id": "496f5117",
   "metadata": {},
   "outputs": [],
   "source": [
    "xception_model = xception.Xception(weights = 'imagenet', include_top = False, input_shape = (256, 256, 3), pooling = 'avg')"
   ]
  },
  {
   "cell_type": "code",
   "execution_count": 33,
   "id": "21b037aa",
   "metadata": {},
   "outputs": [],
   "source": [
    "for layer in xception_model.layers[:-5]:\n",
    "    layer.trainable = False"
   ]
  },
  {
   "cell_type": "code",
   "execution_count": 35,
   "id": "f8ae4b8b",
   "metadata": {},
   "outputs": [],
   "source": [
    "last_output = xception_model.output\n",
    "\n",
    "x = Dense(2, activation = 'softmax')(last_output)\n",
    "\n",
    "new_xception_model = Model(inputs = xception_model.input, outputs = x)\n"
   ]
  },
  {
   "cell_type": "code",
   "execution_count": 36,
   "id": "23deb859",
   "metadata": {},
   "outputs": [],
   "source": [
    "new_xception_model.compile(optimizer = adam_v2.Adam(learning_rate = 0.0001), \n",
    "                        loss = 'sparse_categorical_crossentropy', metrics = [\"accuracy\"])"
   ]
  },
  {
   "cell_type": "code",
   "execution_count": 37,
   "id": "253db79a",
   "metadata": {},
   "outputs": [],
   "source": [
    "early = EarlyStopping(monitor = 'val_loss', patience = 5)\n",
    "xception_history = new_xception_model.fit(datagen.flow(X_train, y_train, batch_size = 32),\n",
    "                       epochs = 100, verbose = 0, validation_data = (X_val, y_val),\n",
    "                       callbacks = [early])"
   ]
  },
  {
   "cell_type": "code",
   "execution_count": 38,
   "id": "993d0305",
   "metadata": {},
   "outputs": [
    {
     "data": {
      "image/png": "[encoded data removed]",
      "text/plain": [
       "<Figure size 864x576 with 1 Axes>"
      ]
     },
     "metadata": {
      "needs_background": "light"
     },
     "output_type": "display_data"
    }
   ],
   "source": [
    "plt.figure(figsize = (12,8))\n",
    "plt.plot(xception_history.history['accuracy'], label='train')\n",
    "plt.plot(xception_history.history['val_accuracy'], label='val')\n",
    "plt.grid(True)\n",
    "plt.xlabel(\"Epoch\")\n",
    "plt.ylabel(\"Accuracy\")\n",
    "plt.title(\"Train and Validation Accuracy During Training with Early Stoppping\")\n",
    "plt.legend()\n",
    "plt.show()"
   ]
  },
  {
   "cell_type": "markdown",
   "id": "145980db",
   "metadata": {},
   "source": [
    "## ResNet Architecture"
   ]
  },
  {
   "cell_type": "code",
   "execution_count": null,
   "id": "7989c0a8",
   "metadata": {},
   "outputs": [],
   "source": [
    "resnet_model = ResNet50V2.ResNet50V2(weights = 'imagenet', include_top = False, input_shape = (256, 256, 3), pooling = 'avg')"
   ]
  },
  {
   "cell_type": "code",
   "execution_count": null,
   "id": "cd7fbee6",
   "metadata": {},
   "outputs": [],
   "source": [
    "for layer in resnet_model.layers[:-5]:\n",
    "    layer.trainable = False"
   ]
  },
  {
   "cell_type": "code",
   "execution_count": null,
   "id": "cea22521",
   "metadata": {},
   "outputs": [],
   "source": [
    "last_output = resnet_model.output\n",
    "\n",
    "x = Dense(2, activation = 'softmax')(last_output)\n",
    "\n",
    "new_resnet_model = Model(inputs = resnet_model.input, outputs = x)\n",
    "\n",
    "new_resnet_model.summary()"
   ]
  },
  {
   "cell_type": "code",
   "execution_count": null,
   "id": "b75cb485",
   "metadata": {},
   "outputs": [],
   "source": [
    "new_resnet_model.compile(optimizer = adam_v2.Adam(learning_rate = 0.0001), \n",
    "                        loss = 'sparse_categorical_crossentropy', metrics = [\"accuracy\"])"
   ]
  },
  {
   "cell_type": "code",
   "execution_count": null,
   "id": "6b750e2c",
   "metadata": {},
   "outputs": [],
   "source": [
    "early = EarlyStopping(monitor = 'val_loss', patience = 5)\n",
    "resnet_history = new_resnet_model.fit(datagen.flow(X_train, y_train, batch_size = 32),\n",
    "                       epochs = 100, verbose = 0, validation_data = (X_val, y_val),\n",
    "                       callbacks = [early])"
   ]
  },
  {
   "cell_type": "code",
   "execution_count": null,
   "id": "6c959e08",
   "metadata": {},
   "outputs": [],
   "source": [
    "plt.figure(figsize = (12,8))\n",
    "plt.plot(resnet_history.history['accuracy'], label='train')\n",
    "plt.plot(resnet_history.history['val_accuracy'], label='val')\n",
    "plt.grid(True)\n",
    "plt.xlabel(\"Epoch\")\n",
    "plt.ylabel(\"Accuracy\")\n",
    "plt.title(\"Train and Validation Accuracy During Training with Early Stoppping\")\n",
    "plt.legend()\n",
    "plt.show()"
   ]
  },
  {
   "cell_type": "markdown",
   "id": "7ac4a016",
   "metadata": {},
   "source": [
    "## Inception ResNet Architecture"
   ]
  },
  {
   "cell_type": "code",
   "execution_count": null,
   "id": "81e3e061",
   "metadata": {},
   "outputs": [],
   "source": [
    "inception_res_model = InceptionResNetV2.InceptionResNetV2(weights = 'imagenet', include_top = False, \n",
    "                                                     input_shape = (256, 256, 3), pooling = 'avg')"
   ]
  },
  {
   "cell_type": "code",
   "execution_count": null,
   "id": "7737c3c6",
   "metadata": {},
   "outputs": [],
   "source": [
    "for layer in inception_res_model.layers[:-5]:\n",
    "    layer.trainable = False"
   ]
  },
  {
   "cell_type": "code",
   "execution_count": null,
   "id": "4fd4d13d",
   "metadata": {},
   "outputs": [],
   "source": [
    "last_output = inception_res_model.output\n",
    "\n",
    "x = Dense(2, activation = 'softmax')(last_output)\n",
    "\n",
    "new_inception_res_model = Model(inputs = inception_res_model.input, outputs = x)\n",
    "\n",
    "new_inception_res_model.summary()"
   ]
  },
  {
   "cell_type": "code",
   "execution_count": null,
   "id": "3e15ce1b",
   "metadata": {},
   "outputs": [],
   "source": [
    "new_inception_res_model.compile(optimizer = adam_v2.Adam(learning_rate = 0.0001), \n",
    "                        loss = 'sparse_categorical_crossentropy', metrics = [\"accuracy\"])"
   ]
  },
  {
   "cell_type": "code",
   "execution_count": null,
   "id": "281a5e52",
   "metadata": {},
   "outputs": [],
   "source": [
    "early = EarlyStopping(monitor = 'val_loss', patience = 5)\n",
    "inception_res_history = new_inception_res_model.fit(datagen.flow(X_train, y_train, batch_size = 32),\n",
    "                       epochs = 100, verbose = 0, validation_data = (X_val, y_val),\n",
    "                       callbacks = [early])"
   ]
  },
  {
   "cell_type": "code",
   "execution_count": null,
   "id": "046e0f6a",
   "metadata": {},
   "outputs": [],
   "source": [
    "plt.figure(figsize = (12,8))\n",
    "plt.plot(inception_res_history.history['accuracy'], label='train')\n",
    "plt.plot(inception_res_history.history['val_accuracy'], label='val')\n",
    "plt.grid(True)\n",
    "plt.xlabel(\"Epoch\")\n",
    "plt.ylabel(\"Accuracy\")\n",
    "plt.title(\"Train and Validation Accuracy During Training with Early Stoppping\")\n",
    "plt.legend()\n",
    "plt.show()"
   ]
  },
  {
   "cell_type": "markdown",
   "id": "52b83304",
   "metadata": {},
   "source": [
    "## EfficientNet Architecture"
   ]
  },
  {
   "cell_type": "code",
   "execution_count": null,
   "id": "d2ac7246",
   "metadata": {},
   "outputs": [],
   "source": [
    "efficientnet_model = EfficientNetB7.EfficientNetB7(weights = 'imagenet', include_top = False, \n",
    "                                               input_shape = (256, 256, 3), pooling = 'avg')"
   ]
  },
  {
   "cell_type": "code",
   "execution_count": null,
   "id": "2fd74f2b",
   "metadata": {},
   "outputs": [],
   "source": [
    "for layer in efficientnet_model.layers[:-5]:\n",
    "    layer.trainable = False"
   ]
  },
  {
   "cell_type": "code",
   "execution_count": null,
   "id": "704beea5",
   "metadata": {},
   "outputs": [],
   "source": [
    "last_output = efficientnet_model.output\n",
    "\n",
    "x = Dense(2, activation = 'softmax')(last_output)\n",
    "\n",
    "new_efficientnet_model = Model(inputs = efficientnet_model.input, outputs = x)\n",
    "\n",
    "new_efficientnet_model.summary()"
   ]
  },
  {
   "cell_type": "code",
   "execution_count": null,
   "id": "14162980",
   "metadata": {},
   "outputs": [],
   "source": [
    "new_efficientnet_model.compile(optimizer = adam_v2.Adam(learning_rate = 0.0001), \n",
    "                        loss = 'sparse_categorical_crossentropy', metrics = [\"accuracy\"])"
   ]
  },
  {
   "cell_type": "code",
   "execution_count": null,
   "id": "a445d14b",
   "metadata": {},
   "outputs": [],
   "source": [
    "early = EarlyStopping(monitor = 'val_loss', patience = 5)\n",
    "efficientnet_history = new_efficientnet_model.fit(datagen.flow(X_train, y_train, batch_size = 32),\n",
    "                       epochs = 100, verbose = 0, validation_data = (X_val, y_val),\n",
    "                       callbacks = [early])"
   ]
  },
  {
   "cell_type": "code",
   "execution_count": null,
   "id": "10465090",
   "metadata": {},
   "outputs": [],
   "source": [
    "plt.figure(figsize = (12,8))\n",
    "plt.plot(efficientnet_history.history['accuracy'], label='train')\n",
    "plt.plot(efficientnet_history.history['val_accuracy'], label='val')\n",
    "plt.grid(True)\n",
    "plt.xlabel(\"Epoch\")\n",
    "plt.ylabel(\"Accuracy\")\n",
    "plt.title(\"Train and Validation Accuracy During Training with Early Stoppping\")\n",
    "plt.legend()\n",
    "plt.show()"
   ]
  },
  {
   "cell_type": "markdown",
   "id": "dbc8e5e6",
   "metadata": {},
   "source": [
    "# Test Results"
   ]
  },
  {
   "cell_type": "code",
   "execution_count": null,
   "id": "eba91063",
   "metadata": {},
   "outputs": [],
   "source": []
  }
 ],
 "metadata": {
  "kernelspec": {
   "display_name": "Python 3",
   "language": "python",
   "name": "python3"
  },
  "language_info": {
   "codemirror_mode": {
    "name": "ipython",
    "version": 3
   },
   "file_extension": ".py",
   "mimetype": "text/x-python",
   "name": "python",
   "nbconvert_exporter": "python",
   "pygments_lexer": "ipython3",
   "version": "3.8.8"
  }
 },
 "nbformat": 4,
 "nbformat_minor": 5
}
